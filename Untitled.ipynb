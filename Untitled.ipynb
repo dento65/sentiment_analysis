{
 "cells": [
  {
   "cell_type": "code",
   "execution_count": 49,
   "id": "3e9e29e8",
   "metadata": {},
   "outputs": [],
   "source": [
    "import requests\n",
    "from bs4 import BeautifulSoup\n",
    "import os\n",
    "import pandas as pd"
   ]
  },
  {
   "cell_type": "code",
   "execution_count": 2,
   "id": "005db350",
   "metadata": {},
   "outputs": [
    {
     "name": "stdout",
     "output_type": "stream",
     "text": [
      "List of directories and files before creation:\n",
      "['sd', '.DS_Store', 'acne', 'Untitled.ipynb', '150.0.txt', 'd.py', '37.0.txt', 'z.py', '.ipynb_checkpoints', 'wrkinle', 'm.html']\n"
     ]
    }
   ],
   "source": [
    "path = '/Users/hayat/Desktop/ML_6.23_MODELS/data_ana'\n",
    "dir_list = os.listdir(path)\n",
    "print(\"List of directories and files before creation:\")\n",
    "print(dir_list)"
   ]
  },
  {
   "cell_type": "code",
   "execution_count": 3,
   "id": "54f688fc",
   "metadata": {},
   "outputs": [
    {
     "name": "stdout",
     "output_type": "stream",
     "text": [
      "“Anything that could give rise to smarter-than-human intelligence – in the form of Artificial Intelligence, brain-computer interfaces, or neuroscience-based human intelligence enhancement – wins hands down beyond contest as doing the most to change the world. Nothing else is even in the same league.” \n",
      "–Eliezer Yudkowsky, AI Researcher\n",
      "There’s no denying robots and automation are increasingly part of our daily lives. Just look around the grocery store, or the highway, they are everywhere. This makes us wonder what if AI can replace human intelligence? What can we do to make ourselves relevant tomorrow? Let us try to find the answers to all these questions and more.\n",
      "Let’s first understand what is Artificial Intelligence –\n",
      "Artificial Intelligence or AI basically machines displaying intelligence. This can be seen from a machine playing chess or a robot answering questions on Facebook. Artificial Intelligence can be further broken down into many different types. There are AIs designed to do specific tasks, such as detecting a specific type of cancer. However, there are also AIs that can do multiple tasks, such as driving a car. There are many types of AIs. Among the top, most important fields are Machine Learning or ML, Neural Network, Computer Vision, and Natural Language Processing or NLP.\n",
      "Machine Learning is the idea of machines being able to prove themselves similar to how a human being learns a new skill. Machine Learning also allows for the optimization of an existing skill. Machine Learning is used in many different fields and one such application is entertainment. Netflix uses Machine Learning to recommend more shows that you can watch based on the shows that you have already seen.\n",
      "Neural Networks are algorithms that are modeled after the human brain. These algorithms think just like we do which can thereby give similar results to what a human being can give. Artificial Neural Networks are used in medical fields to diagnose cancers like lung cancer and prostate cancer.\n",
      "Computer Vision is the idea that computers have visions. This allows them to see things the way human beings do or potentially better than human beings do, depending on the programming, camera used, etc. Computer Vision is used in autonomous vehicles for navigation from one place to another.\n",
      "Natural Language Processing is the idea that computers can listen to what we say. An example of this is Siri. Siri is able to listen to our demands, process what it means, and provide you an answer based on what is researched.\n",
      "Now that we know what an AI is and what it can do, Let’s talk about the issue.\n",
      "AIs allow for the automation of jobs, thereby replacing what humans already do. This means more job loss and the concentration of wealth to the selected few people. This could mean a destabilization of society and social unrest. In addition to social unrest, AI improves over time. This means it becomes smarter, faster, and cheaper to implement and it will be better at doing repetitive things that humans currently do, such as preparing fast food. It is predicted that AI will improve so much over 50 to 100 years that AI will become super intelligent. This means that it will become even smarter than the most intelligent human on earth. According to many experts such as Elon Musk, this could cause the end of human civilization. AI could potentially start a war against humans, burn crops and do all sorts of tragedies once reserved for human functions. At that point, in theory, we can not stop it because AI would have already thought of all the obstacles that will prevent its goal. This means that we cannot unplug the machine, in effect AI will replace human intelligence.\n",
      "But, will this happen in next 10 to 30 years?\n",
      "NO! The field of Artificial Intelligence is sophisticated enough to do many human tasks that humans currently do. Currently, AI is not smart enough to be empathetic to humans and cannot think strategically enough to solve complex problems. AI solutions can be expensive and have to go through many different tests and standards to implement. It also takes time for AI to improve. For example, Boston Dynamics, one of the world’s top robotics company had a robot in 2009 that needed assistance to walk. Fast forward to 2019, not only the robot could walk by itself but it could jump over objects, do backflips and so much more. In addition to the timing, it takes time for the price of any new technological solution to drop to a point where it is affordable. For example, a desktop computer costs around $1000 in 1999 but now you can get a significantly more powerful laptop for the exact same price. AI will go through the same curve.\n",
      "But what happens after those 10 to 30 years? Will AI make human intelligence obsolete? Maybe. As we have proven earlier AI will become faster better and cheaper. As this happens, more and more companies will use AI technology to automate more and more jobs to save money, increase productivity, and most importantly, stay competitive. As we have demonstrated, AI will become better through repetition via the use of machine learning. The only difference is that AI will be able to learn faster as time progresses due to the amount of data that is available today. It will also be able to learn from other machines or similar machines to learn how to optimize its tasks or new important skills. However, AI also just not do repetitive and routine tasks better, it will also be able to understand emotional intelligence, ethics, and creativity. This seen in three distinct example- IBM\n",
      "IBM uses its IBM Watson to program the AI to create a movie trailer. Fox approached IBM and said they have a movie coming out on AI #Scifi horror. They asked IBM if their platform IBM Watson could a trailer by reviewing and watching the footage and searching for scary,\n",
      "Sad or happy or other moments in the movie that provoked quality emotions based on how the machine was programmed to identify such emotions in a quantifiable manner. IBM Watson was able to generate a trailer for the movie Morgan. The result, a movie trailer created by machines example – Google\n",
      "IN 2018 google demonstrated an AI assistance that could take calls and do simple stuff. The AI was able to set up an appointment! What was more fascinating was that it was able to understand the nuances of the conversation. The receptionist thought it was a human being that was calling her. That is a very primitive version of what is possible with this technology. Eventually, it will be able to have conversations just as human beings do, making many sales jobs obsolete. example – AI generated art\n",
      "In 2018, a Paris art collective consisting of three students used artificial intelligence to generate a portrait. It generated the portrait painting by studying a set of fifteen thousand art images on wiki art. It was estimated to be worth between seven thousand to ten thousand dollars. The painting sold at an auction for four thirty-five thousand US dollars.\n",
      "However, we cannot for sure say that AI will replace human intelligence. This is because we as a society have started asking hard questions and questioning ethics. Elon Musk founded Open AI, a research lab whose whole purpose is to promote and discover artificial intelligence in a way to benefits humanity. In addition to this, there are many factors that affect the long-term outcome of AI replacing human intelligence. Like, to what degree will other humans allow for AI to take over? Depending on the field, do people even want Artificial Intelligence to help them? Or will they prefer a human counterpart? While we may not be able to control what happens in the long run, we can definitely secure our short-term future.\n",
      "Strategic and creative thinking\n",
      "The ability to think outside the box is very human. There are thousands upon thousands of slightly different possible outcomes that may result from every distinguishable action that the human mind with its ability to judge from experience is programmed for these purposes in a far more sophisticated manner than AI can currently achieve. As the billionaire founder of Alibaba, Jack Ma famously said – “AI has logic, human beings have wisdom”.\n",
      "Conflict resolution and negotiations\n",
      "With our understanding of the complexities of human-related processes and our ability to improvise and judge, we are far better equipped to deal with conflicts than robots are ever likely to be.\n",
      "AI may be able to recognize faces and images but it can rarely successfully read the feelings of those faces. Humans, to lesser or greater degrees, are capable of an accurate analysis of emotional subtext. With the application of intuition and the use of delicately worded or elusive languages, through these methods, we are able to properly judge how a person feels.\n",
      "Interpretation of Gray Areas\n",
      "Robots and computers function well when presented with quantifiable data. However, once the situation enters a gray area, whether this term refers to morals, processes, or definitions robots are more likely to falter.\n",
      "Critical thinking\n",
      "Humans are capable of responding to more indicators of quality than computers are. While an AI system may be able to analyze documents according to the true or false statements made within the text, we can judge whether or not it is well written and analyze the implication of the use of certain words and the overall meaning of the content.\n",
      "\n"
     ]
    }
   ],
   "source": [
    "reports = []\n",
    "url = \"https://insights.blackcoffer.com/will-machine-replace-the-human-in-the-future-of-work/\"\n",
    "req = requests.get(url ,headers={'User-Agent': 'My User Agent 1.0'})\n",
    "data = req.text\n",
    "soup = BeautifulSoup(data, 'html.parser')\n",
    "reports.append(soup.get_text())\n",
    "texts = soup.find_all('p')\n",
    "for text in texts:\n",
    "    print(text.get_text())"
   ]
  },
  {
   "cell_type": "code",
   "execution_count": 89,
   "id": "0078454b",
   "metadata": {},
   "outputs": [],
   "source": []
  },
  {
   "cell_type": "code",
   "execution_count": 255,
   "id": "b7150759",
   "metadata": {},
   "outputs": [
    {
     "ename": "FileExistsError",
     "evalue": "[Errno 17] File exists: 'txtin/37.txt'",
     "output_type": "error",
     "traceback": [
      "\u001b[0;31m---------------------------------------------------------------------------\u001b[0m",
      "\u001b[0;31mFileExistsError\u001b[0m                           Traceback (most recent call last)",
      "Cell \u001b[0;32mIn[255], line 5\u001b[0m\n\u001b[1;32m      3\u001b[0m \u001b[38;5;28;01mfor\u001b[39;00m i \u001b[38;5;129;01min\u001b[39;00m \u001b[38;5;28mrange\u001b[39m (\u001b[38;5;241m0\u001b[39m,l):\n\u001b[1;32m      4\u001b[0m     \u001b[38;5;28mid\u001b[39m  \u001b[38;5;241m=\u001b[39m \u001b[38;5;28mstr\u001b[39m(df\u001b[38;5;241m.\u001b[39miloc[i,\u001b[38;5;241m0\u001b[39m])\n\u001b[0;32m----> 5\u001b[0m     \u001b[38;5;28;01mwith\u001b[39;00m \u001b[38;5;28;43mopen\u001b[39;49m\u001b[43m(\u001b[49m\u001b[38;5;124;43mf\u001b[39;49m\u001b[38;5;124;43m\"\u001b[39;49m\u001b[38;5;124;43mtxtin/\u001b[39;49m\u001b[38;5;132;43;01m{\u001b[39;49;00m\u001b[38;5;28;43mid\u001b[39;49m\u001b[38;5;132;43;01m}\u001b[39;49;00m\u001b[38;5;124;43m.txt\u001b[39;49m\u001b[38;5;124;43m\"\u001b[39;49m\u001b[43m,\u001b[49m\u001b[43m \u001b[49m\u001b[38;5;124;43m'\u001b[39;49m\u001b[38;5;124;43mx\u001b[39;49m\u001b[38;5;124;43m'\u001b[39;49m\u001b[43m)\u001b[49m \u001b[38;5;28;01mas\u001b[39;00m f:\n\u001b[1;32m      6\u001b[0m         url \u001b[38;5;241m=\u001b[39m df\u001b[38;5;241m.\u001b[39miloc[i][\u001b[38;5;241m1\u001b[39m]\n\u001b[1;32m      7\u001b[0m         req \u001b[38;5;241m=\u001b[39m requests\u001b[38;5;241m.\u001b[39mget(url ,headers\u001b[38;5;241m=\u001b[39m{\u001b[38;5;124m'\u001b[39m\u001b[38;5;124mUser-Agent\u001b[39m\u001b[38;5;124m'\u001b[39m: \u001b[38;5;124m'\u001b[39m\u001b[38;5;124mMy User Agent 1.0\u001b[39m\u001b[38;5;124m'\u001b[39m})\n",
      "File \u001b[0;32m~/opt/anaconda3/lib/python3.9/site-packages/IPython/core/interactiveshell.py:282\u001b[0m, in \u001b[0;36m_modified_open\u001b[0;34m(file, *args, **kwargs)\u001b[0m\n\u001b[1;32m    275\u001b[0m \u001b[38;5;28;01mif\u001b[39;00m file \u001b[38;5;129;01min\u001b[39;00m {\u001b[38;5;241m0\u001b[39m, \u001b[38;5;241m1\u001b[39m, \u001b[38;5;241m2\u001b[39m}:\n\u001b[1;32m    276\u001b[0m     \u001b[38;5;28;01mraise\u001b[39;00m \u001b[38;5;167;01mValueError\u001b[39;00m(\n\u001b[1;32m    277\u001b[0m         \u001b[38;5;124mf\u001b[39m\u001b[38;5;124m\"\u001b[39m\u001b[38;5;124mIPython won\u001b[39m\u001b[38;5;124m'\u001b[39m\u001b[38;5;124mt let you open fd=\u001b[39m\u001b[38;5;132;01m{\u001b[39;00mfile\u001b[38;5;132;01m}\u001b[39;00m\u001b[38;5;124m by default \u001b[39m\u001b[38;5;124m\"\u001b[39m\n\u001b[1;32m    278\u001b[0m         \u001b[38;5;124m\"\u001b[39m\u001b[38;5;124mas it is likely to crash IPython. If you know what you are doing, \u001b[39m\u001b[38;5;124m\"\u001b[39m\n\u001b[1;32m    279\u001b[0m         \u001b[38;5;124m\"\u001b[39m\u001b[38;5;124myou can use builtins\u001b[39m\u001b[38;5;124m'\u001b[39m\u001b[38;5;124m open.\u001b[39m\u001b[38;5;124m\"\u001b[39m\n\u001b[1;32m    280\u001b[0m     )\n\u001b[0;32m--> 282\u001b[0m \u001b[38;5;28;01mreturn\u001b[39;00m \u001b[43mio_open\u001b[49m\u001b[43m(\u001b[49m\u001b[43mfile\u001b[49m\u001b[43m,\u001b[49m\u001b[43m \u001b[49m\u001b[38;5;241;43m*\u001b[39;49m\u001b[43margs\u001b[49m\u001b[43m,\u001b[49m\u001b[43m \u001b[49m\u001b[38;5;241;43m*\u001b[39;49m\u001b[38;5;241;43m*\u001b[39;49m\u001b[43mkwargs\u001b[49m\u001b[43m)\u001b[49m\n",
      "\u001b[0;31mFileExistsError\u001b[0m: [Errno 17] File exists: 'txtin/37.txt'"
     ]
    }
   ],
   "source": [
    "\n",
    "df = pd.read_excel('./Input.xlsx')\n",
    "l = len(df)\n",
    "for i in range (0,l):\n",
    "    id  = str(df.iloc[i,0])\n",
    "    with open(f\"txtin/{id}.txt\", 'x') as f:\n",
    "        url = df.iloc[i][1]\n",
    "        req = requests.get(url ,headers={'User-Agent': 'My User Agent 1.0'})\n",
    "        data = req.text\n",
    "        soup = BeautifulSoup(data, 'html.parser')\n",
    "        reports.append(soup.get_text())\n",
    "        texts = soup.find_all('p')\n",
    "        for text in texts:\n",
    "            f.write(text.get_text())"
   ]
  },
  {
   "cell_type": "code",
   "execution_count": 160,
   "id": "eeb503ae",
   "metadata": {},
   "outputs": [
    {
     "name": "stdout",
     "output_type": "stream",
     "text": [
      "114\n"
     ]
    }
   ],
   "source": [
    "print(l)"
   ]
  },
  {
   "cell_type": "code",
   "execution_count": 2,
   "id": "f97dd068",
   "metadata": {},
   "outputs": [
    {
     "name": "stdout",
     "output_type": "stream",
     "text": [
      "Total number of Stop Words are 14108\n"
     ]
    }
   ],
   "source": [
    "with open(\"StopWords/combined_stop_words.txt\",'r') as f:\n",
    "            stop_words = f.read()\n",
    "stop_words = stop_words.split('\\n')\n",
    "print(f'Total number of Stop Words are {len(stop_words)}')\n",
    "f.close()"
   ]
  },
  {
   "cell_type": "code",
   "execution_count": null,
   "id": "ff7f5e7b",
   "metadata": {},
   "outputs": [],
   "source": []
  },
  {
   "cell_type": "code",
   "execution_count": 3,
   "id": "8078ba7a",
   "metadata": {},
   "outputs": [
    {
     "name": "stdout",
     "output_type": "stream",
     "text": [
      "Total number of Stop Words are 2007\n"
     ]
    }
   ],
   "source": [
    "with open(\"MasterDictionary/positive-words.txt\",'r') as f:\n",
    "        positive_words = f.read()\n",
    "positive_words = positive_words.split('\\n')\n",
    "print(f'Total number of Stop Words are {len(positive_words)}')\n",
    "f.close()"
   ]
  },
  {
   "cell_type": "code",
   "execution_count": 4,
   "id": "bfd8a45c",
   "metadata": {},
   "outputs": [
    {
     "name": "stdout",
     "output_type": "stream",
     "text": [
      "Total number of Stop Words are 4784\n"
     ]
    }
   ],
   "source": [
    "with open(\"MasterDictionary/negative-words.txt\",'r') as f:\n",
    "        negative_words = f.read()\n",
    "negative_words = negative_words.split('\\n')\n",
    "print(f'Total number of Stop Words are {len(negative_words)}')"
   ]
  },
  {
   "cell_type": "code",
   "execution_count": 5,
   "id": "7aa96a51",
   "metadata": {},
   "outputs": [],
   "source": [
    "p_list=[]\n",
    "for x in positive_words:\n",
    "    r = 1\n",
    "    for y in stop_words:\n",
    "        if x==y:\n",
    "            r = 0\n",
    "    if r:\n",
    "        p_list.append(x)\n",
    "n_list = []\n",
    "for x in negative_words:\n",
    "    r = 1\n",
    "    for y in stop_words:\n",
    "        if x==y:\n",
    "            r = 0\n",
    "    if r:\n",
    "        n_list.append(x)"
   ]
  },
  {
   "cell_type": "code",
   "execution_count": 18,
   "id": "9cbb2283",
   "metadata": {},
   "outputs": [
    {
     "name": "stdout",
     "output_type": "stream",
     "text": [
      "1988\n",
      "4779\n"
     ]
    }
   ],
   "source": [
    "from nltk.corpus import stopwords\n",
    "print(len(p_list))\n",
    "print(len(n_list))\n",
    "stop_words_nltk = set(stopwords.words('english'))\n",
    "def syllable_count(word):\n",
    "    syllable_count=0\n",
    "    for w in word:\n",
    "      if(w=='a' or w=='e' or w=='i' or w=='o' or w=='u' or w=='A' or w=='E' or w=='I' or w=='O' or w=='U'):\n",
    "            syllable_count=syllable_count+1\n",
    "    return syllable_count\n",
    "punc = '''!()-[]{};:'\"\\,<>./?@#$%^&*_~'''"
   ]
  },
  {
   "cell_type": "code",
   "execution_count": 43,
   "id": "ae61d92e",
   "metadata": {},
   "outputs": [],
   "source": [
    "df = pd.read_excel('/Users/hayat/Downloads/Output.xlsx')\n",
    "df.columns\n",
    "df.tail()"
   ]
  },
  {
   "cell_type": "code",
   "execution_count": 93,
   "id": "6a305b7e",
   "metadata": {},
   "outputs": [],
   "source": [
    "from nltk.tokenize import word_tokenize\n",
    "from nltk.corpus import stopwords\n",
    "import nltk\n",
    "stop_words_nltk = set(stopwords.words('english'))\n",
    "\n",
    "for i in range(37,151):\n",
    "    if i != 44 and i!= 57 and i!= 144:\n",
    "        positive_score = 0\n",
    "        negative_score = 0\n",
    "        words_after_cleaning = 0\n",
    "        no_of_sentences = 0\n",
    "        no_of_words = 0\n",
    "        no_of_complex_words = 0\n",
    "        total_syllable_count = 0\n",
    "        character_count = 0\n",
    "        p_prounouns_count = 0\n",
    "        with open(f\"txtin/{i}.txt\",'r') as f:\n",
    "            text = f.read()\n",
    "            word_tokens = word_tokenize(text)\n",
    "#         no_of_words += len(word_tokens)\n",
    "            sentence = nltk.sent_tokenize(text)\n",
    "            no_of_sentences += len(sentence)\n",
    "            for w in word_tokens:\n",
    "                if not(w in stop_words):\n",
    "                    no_of_words += 1\n",
    "                    for charc in w:\n",
    "                        character_count += 1\n",
    "                    if w in punc:\n",
    "                        p_prounouns_count += 1\n",
    "                    s_count = syllable_count(w)\n",
    "                    if w[-2:] == 'es' or w[-2:] == 'ed':\n",
    "                        s_count -= 1\n",
    "                    total_syllable_count += s_count\n",
    "                    if s_count > 2:\n",
    "                        no_of_complex_words += 1\n",
    "                    if w not in stop_words_nltk and w not in punc:\n",
    "                        words_after_cleaning += 1\n",
    "                        if w in p_list:\n",
    "                            positive_score += 1\n",
    "                        if w in n_list:\n",
    "                            negative_score += 1\n",
    "            polarity_score = (positive_score - negative_score)/((positive_score + negative_score)+0.000001)\n",
    "            subjectivity_score = (positive_score + negative_score)/((words_after_cleaning)+0.000001)\n",
    "            avg_sentence_length = no_of_words/no_of_sentences\n",
    "            per_of_complex_words = (no_of_complex_words/no_of_words)\n",
    "            fog_index = 0.4*(avg_sentence_length + per_of_complex_words)\n",
    "            avg_words_per_sentence = no_of_words/no_of_sentences\n",
    "            syllables_per_word = total_syllable_count/no_of_words\n",
    "            avg_word_length = character_count/no_of_words\n",
    "            df.loc[df.URL_ID == i, ['POSITIVE SCORE', 'NEGATIVE SCORE','POLARITY SCORE','SUBJECTIVITY SCORE']] = positive_score,negative_score,polarity_score,subjectivity_score\n",
    "            df.loc[df.URL_ID == i, ['AVG SENTENCE LENGTH', 'PERCENTAGE OF COMPLEX WORDS','FOG INDEX','AVG NUMBER OF WORDS PER SENTENCE']] = avg_sentence_length,per_of_complex_words,fog_index,avg_words_per_sentence\n",
    "            df.loc[df.URL_ID == i, ['COMPLEX WORD COUNT', 'WORD COUNT','SYLLABLE PER WORD','PERSONAL PRONOUNS','AVG WORD LENGTH']]= no_of_complex_words,no_of_words,syllables_per_word,p_prounouns_count,avg_word_length\n",
    "        "
   ]
  },
  {
   "cell_type": "code",
   "execution_count": 22,
   "id": "2f0c50da",
   "metadata": {},
   "outputs": [],
   "source": [
    "df.to_excel('out.xlsx')"
   ]
  },
  {
   "cell_type": "code",
   "execution_count": null,
   "id": "3852e92a",
   "metadata": {},
   "outputs": [],
   "source": []
  },
  {
   "cell_type": "code",
   "execution_count": null,
   "id": "c1df3ddb",
   "metadata": {},
   "outputs": [],
   "source": []
  },
  {
   "cell_type": "code",
   "execution_count": null,
   "id": "ed9fb799",
   "metadata": {},
   "outputs": [],
   "source": []
  },
  {
   "cell_type": "code",
   "execution_count": null,
   "id": "6199ed25",
   "metadata": {},
   "outputs": [],
   "source": []
  },
  {
   "cell_type": "code",
   "execution_count": null,
   "id": "526bdd5c",
   "metadata": {},
   "outputs": [],
   "source": []
  },
  {
   "cell_type": "code",
   "execution_count": null,
   "id": "6288c9e2",
   "metadata": {},
   "outputs": [],
   "source": []
  },
  {
   "cell_type": "code",
   "execution_count": null,
   "id": "2baa4804",
   "metadata": {},
   "outputs": [],
   "source": []
  },
  {
   "cell_type": "code",
   "execution_count": null,
   "id": "59507cf9",
   "metadata": {},
   "outputs": [],
   "source": []
  },
  {
   "cell_type": "code",
   "execution_count": null,
   "id": "a6d5cbec",
   "metadata": {},
   "outputs": [],
   "source": []
  },
  {
   "cell_type": "code",
   "execution_count": 95,
   "id": "98ea1995",
   "metadata": {},
   "outputs": [],
   "source": []
  },
  {
   "cell_type": "code",
   "execution_count": 81,
   "id": "33406105",
   "metadata": {},
   "outputs": [],
   "source": []
  },
  {
   "cell_type": "code",
   "execution_count": null,
   "id": "dabd5887",
   "metadata": {},
   "outputs": [],
   "source": []
  }
 ],
 "metadata": {
  "kernelspec": {
   "display_name": "Python 3 (ipykernel)",
   "language": "python",
   "name": "python3"
  },
  "language_info": {
   "codemirror_mode": {
    "name": "ipython",
    "version": 3
   },
   "file_extension": ".py",
   "mimetype": "text/x-python",
   "name": "python",
   "nbconvert_exporter": "python",
   "pygments_lexer": "ipython3",
   "version": "3.9.7"
  }
 },
 "nbformat": 4,
 "nbformat_minor": 5
}
